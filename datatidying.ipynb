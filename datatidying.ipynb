{
 "cells": [
  {
   "cell_type": "code",
   "execution_count": 49,
   "outputs": [],
   "source": [
    "import numpy as np\n",
    "import pandas as pd"
   ],
   "metadata": {
    "collapsed": false
   }
  },
  {
   "cell_type": "code",
   "execution_count": 50,
   "outputs": [
    {
     "data": {
      "text/plain": "   Unnamed: 0       brand              model  color registration_date  year  \\\n0           0  alfa-romeo     Alfa Romeo GTV    red           10/1995  1995   \n1           1  alfa-romeo     Alfa Romeo 164  black           02/1995  1995   \n2           2  alfa-romeo  Alfa Romeo Spider  black           02/1995  1995   \n3           3  alfa-romeo  Alfa Romeo Spider  black           07/1995  1995   \n4           4  alfa-romeo     Alfa Romeo 164    red           11/1996  1996   \n\n  price_in_euro power_kw power_ps transmission_type fuel_type  \\\n0          1300      148      201            Manual    Petrol   \n1         24900      191      260            Manual    Petrol   \n2          5900      110      150           Unknown    Petrol   \n3          4900      110      150            Manual    Petrol   \n4         17950      132      179            Manual    Petrol   \n\n  fuel_consumption_l_100km fuel_consumption_g_km  mileage_in_km  \\\n0            10,9 l/100 km              260 g/km       160500.0   \n1                      NaN              - (g/km)       190000.0   \n2                      NaN              - (g/km)       129000.0   \n3             9,5 l/100 km              225 g/km       189500.0   \n4             7,2 l/100 km              - (g/km)        96127.0   \n\n                       offer_description  \n0                              2.0 V6 TB  \n1                    Q4 Allrad, 3.2L GTA  \n2                          ALFA ROME 916  \n3                   2.0 16V Twin Spark L  \n4  3.0i Super V6, absoluter Topzustand !  ",
      "text/html": "<div>\n<style scoped>\n    .dataframe tbody tr th:only-of-type {\n        vertical-align: middle;\n    }\n\n    .dataframe tbody tr th {\n        vertical-align: top;\n    }\n\n    .dataframe thead th {\n        text-align: right;\n    }\n</style>\n<table border=\"1\" class=\"dataframe\">\n  <thead>\n    <tr style=\"text-align: right;\">\n      <th></th>\n      <th>Unnamed: 0</th>\n      <th>brand</th>\n      <th>model</th>\n      <th>color</th>\n      <th>registration_date</th>\n      <th>year</th>\n      <th>price_in_euro</th>\n      <th>power_kw</th>\n      <th>power_ps</th>\n      <th>transmission_type</th>\n      <th>fuel_type</th>\n      <th>fuel_consumption_l_100km</th>\n      <th>fuel_consumption_g_km</th>\n      <th>mileage_in_km</th>\n      <th>offer_description</th>\n    </tr>\n  </thead>\n  <tbody>\n    <tr>\n      <th>0</th>\n      <td>0</td>\n      <td>alfa-romeo</td>\n      <td>Alfa Romeo GTV</td>\n      <td>red</td>\n      <td>10/1995</td>\n      <td>1995</td>\n      <td>1300</td>\n      <td>148</td>\n      <td>201</td>\n      <td>Manual</td>\n      <td>Petrol</td>\n      <td>10,9 l/100 km</td>\n      <td>260 g/km</td>\n      <td>160500.0</td>\n      <td>2.0 V6 TB</td>\n    </tr>\n    <tr>\n      <th>1</th>\n      <td>1</td>\n      <td>alfa-romeo</td>\n      <td>Alfa Romeo 164</td>\n      <td>black</td>\n      <td>02/1995</td>\n      <td>1995</td>\n      <td>24900</td>\n      <td>191</td>\n      <td>260</td>\n      <td>Manual</td>\n      <td>Petrol</td>\n      <td>NaN</td>\n      <td>- (g/km)</td>\n      <td>190000.0</td>\n      <td>Q4 Allrad, 3.2L GTA</td>\n    </tr>\n    <tr>\n      <th>2</th>\n      <td>2</td>\n      <td>alfa-romeo</td>\n      <td>Alfa Romeo Spider</td>\n      <td>black</td>\n      <td>02/1995</td>\n      <td>1995</td>\n      <td>5900</td>\n      <td>110</td>\n      <td>150</td>\n      <td>Unknown</td>\n      <td>Petrol</td>\n      <td>NaN</td>\n      <td>- (g/km)</td>\n      <td>129000.0</td>\n      <td>ALFA ROME 916</td>\n    </tr>\n    <tr>\n      <th>3</th>\n      <td>3</td>\n      <td>alfa-romeo</td>\n      <td>Alfa Romeo Spider</td>\n      <td>black</td>\n      <td>07/1995</td>\n      <td>1995</td>\n      <td>4900</td>\n      <td>110</td>\n      <td>150</td>\n      <td>Manual</td>\n      <td>Petrol</td>\n      <td>9,5 l/100 km</td>\n      <td>225 g/km</td>\n      <td>189500.0</td>\n      <td>2.0 16V Twin Spark L</td>\n    </tr>\n    <tr>\n      <th>4</th>\n      <td>4</td>\n      <td>alfa-romeo</td>\n      <td>Alfa Romeo 164</td>\n      <td>red</td>\n      <td>11/1996</td>\n      <td>1996</td>\n      <td>17950</td>\n      <td>132</td>\n      <td>179</td>\n      <td>Manual</td>\n      <td>Petrol</td>\n      <td>7,2 l/100 km</td>\n      <td>- (g/km)</td>\n      <td>96127.0</td>\n      <td>3.0i Super V6, absoluter Topzustand !</td>\n    </tr>\n  </tbody>\n</table>\n</div>"
     },
     "execution_count": 50,
     "metadata": {},
     "output_type": "execute_result"
    }
   ],
   "source": [
    "# Specify the delimiter CSV file (',' for comma-delimited)\n",
    "delimiter = ','\n",
    "# Load the CSV file into a Pandas DataFrame\n",
    "df = pd.read_csv(\"./data.csv\", delimiter=delimiter)\n",
    "original_df = df\n",
    "# Display the first few rows of the DataFrame\n",
    "df.head()"
   ],
   "metadata": {
    "collapsed": false
   }
  },
  {
   "cell_type": "code",
   "execution_count": 51,
   "outputs": [
    {
     "data": {
      "text/plain": "(251079, 15)"
     },
     "execution_count": 51,
     "metadata": {},
     "output_type": "execute_result"
    }
   ],
   "source": [
    "df.shape"
   ],
   "metadata": {
    "collapsed": false
   }
  },
  {
   "cell_type": "code",
   "execution_count": 52,
   "outputs": [
    {
     "name": "stdout",
     "output_type": "stream",
     "text": [
      "<class 'pandas.core.frame.DataFrame'>\n",
      "RangeIndex: 251079 entries, 0 to 251078\n",
      "Data columns (total 15 columns):\n",
      " #   Column                    Non-Null Count   Dtype  \n",
      "---  ------                    --------------   -----  \n",
      " 0   Unnamed: 0                251079 non-null  int64  \n",
      " 1   brand                     251079 non-null  object \n",
      " 2   model                     251079 non-null  object \n",
      " 3   color                     250913 non-null  object \n",
      " 4   registration_date         251075 non-null  object \n",
      " 5   year                      251079 non-null  object \n",
      " 6   price_in_euro             251079 non-null  object \n",
      " 7   power_kw                  250945 non-null  object \n",
      " 8   power_ps                  250950 non-null  object \n",
      " 9   transmission_type         251079 non-null  object \n",
      " 10  fuel_type                 251079 non-null  object \n",
      " 11  fuel_consumption_l_100km  224206 non-null  object \n",
      " 12  fuel_consumption_g_km     251079 non-null  object \n",
      " 13  mileage_in_km             250927 non-null  float64\n",
      " 14  offer_description         251078 non-null  object \n",
      "dtypes: float64(1), int64(1), object(13)\n",
      "memory usage: 28.7+ MB\n"
     ]
    }
   ],
   "source": [
    "df.info()"
   ],
   "metadata": {
    "collapsed": false
   }
  },
  {
   "cell_type": "code",
   "execution_count": 53,
   "outputs": [
    {
     "data": {
      "text/plain": "['Unnamed: 0',\n 'brand',\n 'model',\n 'color',\n 'registration_date',\n 'year',\n 'price_in_euro',\n 'power_kw',\n 'power_ps',\n 'transmission_type',\n 'fuel_type',\n 'fuel_consumption_l_100km',\n 'fuel_consumption_g_km',\n 'mileage_in_km',\n 'offer_description']"
     },
     "execution_count": 53,
     "metadata": {},
     "output_type": "execute_result"
    }
   ],
   "source": [
    "# Know the Existing Columns\n",
    "columns = list(df.columns)\n",
    "columns"
   ],
   "metadata": {
    "collapsed": false
   }
  },
  {
   "cell_type": "code",
   "execution_count": 54,
   "outputs": [
    {
     "name": "stdout",
     "output_type": "stream",
     "text": [
      "Unnamed: 0                    int64\n",
      "brand                        object\n",
      "model                        object\n",
      "color                        object\n",
      "registration_date            object\n",
      "year                         object\n",
      "price_in_euro                object\n",
      "power_kw                     object\n",
      "power_ps                     object\n",
      "transmission_type            object\n",
      "fuel_type                    object\n",
      "fuel_consumption_l_100km     object\n",
      "fuel_consumption_g_km        object\n",
      "mileage_in_km               float64\n",
      "offer_description            object\n",
      "dtype: object\n"
     ]
    }
   ],
   "source": [
    "# Data Types for our columns\n",
    "print(df.dtypes)"
   ],
   "metadata": {
    "collapsed": false
   }
  },
  {
   "cell_type": "code",
   "execution_count": 55,
   "outputs": [
    {
     "data": {
      "text/plain": "Unnamed: 0                      0\nbrand                           0\nmodel                           0\ncolor                         166\nregistration_date               4\nyear                            0\nprice_in_euro                   0\npower_kw                      134\npower_ps                      129\ntransmission_type               0\nfuel_type                       0\nfuel_consumption_l_100km    26873\nfuel_consumption_g_km           0\nmileage_in_km                 152\noffer_description               1\ndtype: int64"
     },
     "execution_count": 55,
     "metadata": {},
     "output_type": "execute_result"
    }
   ],
   "source": [
    "df.isnull().sum()"
   ],
   "metadata": {
    "collapsed": false
   }
  },
  {
   "cell_type": "code",
   "execution_count": 56,
   "outputs": [
    {
     "data": {
      "text/plain": "    Unnamed: 0       brand              model  color registration_date  year  \\\n1            1  alfa-romeo     Alfa Romeo 164  black           02/1995  1995   \n2            2  alfa-romeo  Alfa Romeo Spider  black           02/1995  1995   \n18          18  alfa-romeo     Alfa Romeo GTV    red           03/1997  1997   \n22          22  alfa-romeo  Alfa Romeo Spider  black           07/1997  1997   \n27          27  alfa-romeo         Alfa Romeo  black           09/1997  1997   \n\n   price_in_euro power_kw power_ps transmission_type fuel_type  \\\n1          24900      191      260            Manual    Petrol   \n2           5900      110      150           Unknown    Petrol   \n18          9980      148      201            Manual    Petrol   \n22         10500      141      192            Manual    Petrol   \n27         99900      152      207            Manual    Petrol   \n\n   fuel_consumption_l_100km fuel_consumption_g_km  mileage_in_km  \\\n1                       NaN              - (g/km)       190000.0   \n2                       NaN              - (g/km)       129000.0   \n18                      NaN              - (g/km)       168791.0   \n22                      NaN              - (g/km)       194000.0   \n27                      NaN              - (g/km)        72260.0   \n\n                                  offer_description  \n1                               Q4 Allrad, 3.2L GTA  \n2                                     ALFA ROME 916  \n18                       2.0 V6 TB - Leder - 2.Hand  \n22                                    3,0  V6   12V  \n27  RZ Zagato Spider | NR.172 | SAMMLER | IL MOSTRO  ",
      "text/html": "<div>\n<style scoped>\n    .dataframe tbody tr th:only-of-type {\n        vertical-align: middle;\n    }\n\n    .dataframe tbody tr th {\n        vertical-align: top;\n    }\n\n    .dataframe thead th {\n        text-align: right;\n    }\n</style>\n<table border=\"1\" class=\"dataframe\">\n  <thead>\n    <tr style=\"text-align: right;\">\n      <th></th>\n      <th>Unnamed: 0</th>\n      <th>brand</th>\n      <th>model</th>\n      <th>color</th>\n      <th>registration_date</th>\n      <th>year</th>\n      <th>price_in_euro</th>\n      <th>power_kw</th>\n      <th>power_ps</th>\n      <th>transmission_type</th>\n      <th>fuel_type</th>\n      <th>fuel_consumption_l_100km</th>\n      <th>fuel_consumption_g_km</th>\n      <th>mileage_in_km</th>\n      <th>offer_description</th>\n    </tr>\n  </thead>\n  <tbody>\n    <tr>\n      <th>1</th>\n      <td>1</td>\n      <td>alfa-romeo</td>\n      <td>Alfa Romeo 164</td>\n      <td>black</td>\n      <td>02/1995</td>\n      <td>1995</td>\n      <td>24900</td>\n      <td>191</td>\n      <td>260</td>\n      <td>Manual</td>\n      <td>Petrol</td>\n      <td>NaN</td>\n      <td>- (g/km)</td>\n      <td>190000.0</td>\n      <td>Q4 Allrad, 3.2L GTA</td>\n    </tr>\n    <tr>\n      <th>2</th>\n      <td>2</td>\n      <td>alfa-romeo</td>\n      <td>Alfa Romeo Spider</td>\n      <td>black</td>\n      <td>02/1995</td>\n      <td>1995</td>\n      <td>5900</td>\n      <td>110</td>\n      <td>150</td>\n      <td>Unknown</td>\n      <td>Petrol</td>\n      <td>NaN</td>\n      <td>- (g/km)</td>\n      <td>129000.0</td>\n      <td>ALFA ROME 916</td>\n    </tr>\n    <tr>\n      <th>18</th>\n      <td>18</td>\n      <td>alfa-romeo</td>\n      <td>Alfa Romeo GTV</td>\n      <td>red</td>\n      <td>03/1997</td>\n      <td>1997</td>\n      <td>9980</td>\n      <td>148</td>\n      <td>201</td>\n      <td>Manual</td>\n      <td>Petrol</td>\n      <td>NaN</td>\n      <td>- (g/km)</td>\n      <td>168791.0</td>\n      <td>2.0 V6 TB - Leder - 2.Hand</td>\n    </tr>\n    <tr>\n      <th>22</th>\n      <td>22</td>\n      <td>alfa-romeo</td>\n      <td>Alfa Romeo Spider</td>\n      <td>black</td>\n      <td>07/1997</td>\n      <td>1997</td>\n      <td>10500</td>\n      <td>141</td>\n      <td>192</td>\n      <td>Manual</td>\n      <td>Petrol</td>\n      <td>NaN</td>\n      <td>- (g/km)</td>\n      <td>194000.0</td>\n      <td>3,0  V6   12V</td>\n    </tr>\n    <tr>\n      <th>27</th>\n      <td>27</td>\n      <td>alfa-romeo</td>\n      <td>Alfa Romeo</td>\n      <td>black</td>\n      <td>09/1997</td>\n      <td>1997</td>\n      <td>99900</td>\n      <td>152</td>\n      <td>207</td>\n      <td>Manual</td>\n      <td>Petrol</td>\n      <td>NaN</td>\n      <td>- (g/km)</td>\n      <td>72260.0</td>\n      <td>RZ Zagato Spider | NR.172 | SAMMLER | IL MOSTRO</td>\n    </tr>\n  </tbody>\n</table>\n</div>"
     },
     "metadata": {},
     "output_type": "display_data"
    }
   ],
   "source": [
    "nan_df = df[df.isna().any(axis=1)]\n",
    "display(nan_df.head())"
   ],
   "metadata": {
    "collapsed": false
   }
  },
  {
   "cell_type": "code",
   "execution_count": 57,
   "outputs": [
    {
     "data": {
      "text/plain": "          Unnamed: 0  mileage_in_km\ncount  251079.000000   2.509270e+05\nmean   125539.000000   8.534002e+04\nstd     72480.408456   7.871706e+04\nmin         0.000000   0.000000e+00\n25%     62769.500000   2.490400e+04\n50%    125539.000000   6.750000e+04\n75%    188308.500000   1.265000e+05\nmax    251078.000000   3.800000e+06",
      "text/html": "<div>\n<style scoped>\n    .dataframe tbody tr th:only-of-type {\n        vertical-align: middle;\n    }\n\n    .dataframe tbody tr th {\n        vertical-align: top;\n    }\n\n    .dataframe thead th {\n        text-align: right;\n    }\n</style>\n<table border=\"1\" class=\"dataframe\">\n  <thead>\n    <tr style=\"text-align: right;\">\n      <th></th>\n      <th>Unnamed: 0</th>\n      <th>mileage_in_km</th>\n    </tr>\n  </thead>\n  <tbody>\n    <tr>\n      <th>count</th>\n      <td>251079.000000</td>\n      <td>2.509270e+05</td>\n    </tr>\n    <tr>\n      <th>mean</th>\n      <td>125539.000000</td>\n      <td>8.534002e+04</td>\n    </tr>\n    <tr>\n      <th>std</th>\n      <td>72480.408456</td>\n      <td>7.871706e+04</td>\n    </tr>\n    <tr>\n      <th>min</th>\n      <td>0.000000</td>\n      <td>0.000000e+00</td>\n    </tr>\n    <tr>\n      <th>25%</th>\n      <td>62769.500000</td>\n      <td>2.490400e+04</td>\n    </tr>\n    <tr>\n      <th>50%</th>\n      <td>125539.000000</td>\n      <td>6.750000e+04</td>\n    </tr>\n    <tr>\n      <th>75%</th>\n      <td>188308.500000</td>\n      <td>1.265000e+05</td>\n    </tr>\n    <tr>\n      <th>max</th>\n      <td>251078.000000</td>\n      <td>3.800000e+06</td>\n    </tr>\n  </tbody>\n</table>\n</div>"
     },
     "execution_count": 57,
     "metadata": {},
     "output_type": "execute_result"
    }
   ],
   "source": [
    "df.describe()"
   ],
   "metadata": {
    "collapsed": false
   }
  },
  {
   "cell_type": "code",
   "execution_count": 58,
   "outputs": [
    {
     "data": {
      "text/plain": "   Unnamed: 0       brand              model  color registration_date  year  \\\n0           0  alfa-romeo     Alfa Romeo GTV    red           10/1995  1995   \n1           1  alfa-romeo     Alfa Romeo 164  black           02/1995  1995   \n2           2  alfa-romeo  Alfa Romeo Spider  black           02/1995  1995   \n3           3  alfa-romeo  Alfa Romeo Spider  black           07/1995  1995   \n4           4  alfa-romeo     Alfa Romeo 164    red           11/1996  1996   \n\n  price_in_euro power_kw power_ps transmission_type fuel_type  \\\n0          1300      148      201            Manual    Petrol   \n1         24900      191      260            Manual    Petrol   \n2          5900      110      150           Unknown    Petrol   \n3          4900      110      150            Manual    Petrol   \n4         17950      132      179            Manual    Petrol   \n\n  fuel_consumption_l_100km fuel_consumption_g_km  mileage_in_km  \\\n0            10,9 l/100 km              260 g/km       160500.0   \n1                      NaN              - (g/km)       190000.0   \n2                      NaN              - (g/km)       129000.0   \n3             9,5 l/100 km              225 g/km       189500.0   \n4             7,2 l/100 km              - (g/km)        96127.0   \n\n                       offer_description  \n0                              2.0 V6 TB  \n1                    Q4 Allrad, 3.2L GTA  \n2                          ALFA ROME 916  \n3                   2.0 16V Twin Spark L  \n4  3.0i Super V6, absoluter Topzustand !  ",
      "text/html": "<div>\n<style scoped>\n    .dataframe tbody tr th:only-of-type {\n        vertical-align: middle;\n    }\n\n    .dataframe tbody tr th {\n        vertical-align: top;\n    }\n\n    .dataframe thead th {\n        text-align: right;\n    }\n</style>\n<table border=\"1\" class=\"dataframe\">\n  <thead>\n    <tr style=\"text-align: right;\">\n      <th></th>\n      <th>Unnamed: 0</th>\n      <th>brand</th>\n      <th>model</th>\n      <th>color</th>\n      <th>registration_date</th>\n      <th>year</th>\n      <th>price_in_euro</th>\n      <th>power_kw</th>\n      <th>power_ps</th>\n      <th>transmission_type</th>\n      <th>fuel_type</th>\n      <th>fuel_consumption_l_100km</th>\n      <th>fuel_consumption_g_km</th>\n      <th>mileage_in_km</th>\n      <th>offer_description</th>\n    </tr>\n  </thead>\n  <tbody>\n    <tr>\n      <th>0</th>\n      <td>0</td>\n      <td>alfa-romeo</td>\n      <td>Alfa Romeo GTV</td>\n      <td>red</td>\n      <td>10/1995</td>\n      <td>1995</td>\n      <td>1300</td>\n      <td>148</td>\n      <td>201</td>\n      <td>Manual</td>\n      <td>Petrol</td>\n      <td>10,9 l/100 km</td>\n      <td>260 g/km</td>\n      <td>160500.0</td>\n      <td>2.0 V6 TB</td>\n    </tr>\n    <tr>\n      <th>1</th>\n      <td>1</td>\n      <td>alfa-romeo</td>\n      <td>Alfa Romeo 164</td>\n      <td>black</td>\n      <td>02/1995</td>\n      <td>1995</td>\n      <td>24900</td>\n      <td>191</td>\n      <td>260</td>\n      <td>Manual</td>\n      <td>Petrol</td>\n      <td>NaN</td>\n      <td>- (g/km)</td>\n      <td>190000.0</td>\n      <td>Q4 Allrad, 3.2L GTA</td>\n    </tr>\n    <tr>\n      <th>2</th>\n      <td>2</td>\n      <td>alfa-romeo</td>\n      <td>Alfa Romeo Spider</td>\n      <td>black</td>\n      <td>02/1995</td>\n      <td>1995</td>\n      <td>5900</td>\n      <td>110</td>\n      <td>150</td>\n      <td>Unknown</td>\n      <td>Petrol</td>\n      <td>NaN</td>\n      <td>- (g/km)</td>\n      <td>129000.0</td>\n      <td>ALFA ROME 916</td>\n    </tr>\n    <tr>\n      <th>3</th>\n      <td>3</td>\n      <td>alfa-romeo</td>\n      <td>Alfa Romeo Spider</td>\n      <td>black</td>\n      <td>07/1995</td>\n      <td>1995</td>\n      <td>4900</td>\n      <td>110</td>\n      <td>150</td>\n      <td>Manual</td>\n      <td>Petrol</td>\n      <td>9,5 l/100 km</td>\n      <td>225 g/km</td>\n      <td>189500.0</td>\n      <td>2.0 16V Twin Spark L</td>\n    </tr>\n    <tr>\n      <th>4</th>\n      <td>4</td>\n      <td>alfa-romeo</td>\n      <td>Alfa Romeo 164</td>\n      <td>red</td>\n      <td>11/1996</td>\n      <td>1996</td>\n      <td>17950</td>\n      <td>132</td>\n      <td>179</td>\n      <td>Manual</td>\n      <td>Petrol</td>\n      <td>7,2 l/100 km</td>\n      <td>- (g/km)</td>\n      <td>96127.0</td>\n      <td>3.0i Super V6, absoluter Topzustand !</td>\n    </tr>\n  </tbody>\n</table>\n</div>"
     },
     "execution_count": 58,
     "metadata": {},
     "output_type": "execute_result"
    }
   ],
   "source": [
    "df.head()"
   ],
   "metadata": {
    "collapsed": false
   }
  },
  {
   "cell_type": "markdown",
   "source": [
    "Data Cleaning"
   ],
   "metadata": {
    "collapsed": false
   }
  },
  {
   "cell_type": "code",
   "execution_count": 59,
   "outputs": [
    {
     "name": "stdout",
     "output_type": "stream",
     "text": [
      "Empty DataFrame\n",
      "Columns: [Unnamed: 0, brand, model, color, registration_date, year, price_in_euro, power_kw, power_ps, transmission_type, fuel_type, fuel_consumption_l_100km, fuel_consumption_g_km, mileage_in_km, offer_description]\n",
      "Index: []\n"
     ]
    }
   ],
   "source": [
    "#Remove Duplicates\n",
    "# Use the duplicated() method to check for duplicates\n",
    "duplicates = df[df.duplicated()]\n",
    "# Print the duplicate rows\n",
    "print(duplicates)"
   ],
   "metadata": {
    "collapsed": false
   }
  },
  {
   "cell_type": "code",
   "execution_count": 60,
   "outputs": [
    {
     "name": "stdout",
     "output_type": "stream",
     "text": [
      "Shape before cleaning (251079, 15) \n",
      "\n",
      "Unnamed: 0 column has 0 missing values. Data type is int64\n",
      "brand column has 0 missing values. Data type is object\n",
      "model column has 0 missing values. Data type is object\n",
      "color column has 166 missing values. Data type is object\n",
      "registration_date column has 4 missing values. Data type is object\n",
      "year column has 0 missing values. Data type is object\n",
      "price_in_euro column has 0 missing values. Data type is object\n",
      "power_kw column has 134 missing values. Data type is object\n",
      "power_ps column has 129 missing values. Data type is object\n",
      "transmission_type column has 0 missing values. Data type is object\n",
      "fuel_type column has 0 missing values. Data type is object\n",
      "fuel_consumption_l_100km column has 26873 missing values. Data type is object\n",
      "fuel_consumption_g_km column has 0 missing values. Data type is object\n",
      "mileage_in_km column has 152 missing values. Data type is float64\n",
      "offer_description column has 1 missing values. Data type is object\n",
      "\n",
      "               Missing Count  Percent Missing  Percent Missing After\n",
      "fuel_type                                                           \n",
      "Petrol                 11104             0.08                      0\n",
      "Diesel                  7425             0.09                      0\n",
      "Electric                5496             0.92                      0\n",
      "Hybrid                  2257             0.18                      0\n",
      "LPG                      185             0.15                      0\n",
      "Diesel Hybrid             99             0.21                      0\n",
      "CNG                       94             0.19                      0\n",
      "Other                     91             0.51                      0\n",
      "Unknown                   73             0.76                      0\n",
      "Hydrogen                  44             0.54                      0\n",
      "Ethanol                    5             0.50                      0 \n",
      "\n",
      "Shape after cleaning (229240, 14)\n"
     ]
    }
   ],
   "source": [
    "print('Shape before cleaning', df.shape , '\\n')\n",
    "ind = df.columns[0]\n",
    "for i in df.columns:\n",
    "    print('{} column has {} missing values. Data type is {}'.format(i, df[i].isna().sum(), df[i].dtype))\n",
    "print('')\n",
    "missing_df = pd.DataFrame(df[df['fuel_consumption_l_100km'].isna()]['fuel_type'].value_counts())\n",
    "missing_df.columns = [\"Missing Count\"]\n",
    "missingCounts = df[df['fuel_consumption_l_100km'].isna()]['fuel_type'].value_counts()\n",
    "totalCounts = df['fuel_type'].value_counts()\n",
    "missing_df[\"Percent Missing\"] = [round(missingCounts[i] / totalCounts[i], 2) for i in missing_df.index]\n",
    "\n",
    "df['fuel_consumption_l_100km'] = df.apply(\n",
    "        lambda row: float(0) if pd.isnull(row['fuel_consumption_l_100km']) & \\\n",
    "        ((row['fuel_type'] == 'Electric')  or \\\n",
    "         (row['fuel_type'] == 'Hydrogen')  or \\\n",
    "         (row['fuel_type'] == 'Ethanol')) else row['fuel_consumption_l_100km'],\n",
    "    axis = 1\n",
    ")\n",
    "\n",
    "df = df[df['fuel_type'] != 'Unknown']\n",
    "df = df[df['fuel_type'] != 'Other']\n",
    "df = df.drop(columns = ind)\n",
    "df = df.dropna()\n",
    "\n",
    "\n",
    "missingCounts = df[df['fuel_consumption_l_100km'].isna()]['fuel_type'].value_counts()\n",
    "totalCounts = df['fuel_type'].value_counts()\n",
    "missing_df[\"Percent Missing After\"] = [round(missingCounts[i] / totalCounts[i], 2) if i in missingCounts.index else 0 for i in missing_df.index] \n",
    "print(missing_df, '\\n')\n",
    "\n",
    "\n",
    "print('Shape after cleaning',df.shape)"
   ],
   "metadata": {
    "collapsed": false
   }
  },
  {
   "cell_type": "code",
   "execution_count": 61,
   "outputs": [
    {
     "name": "stdout",
     "output_type": "stream",
     "text": [
      "Values in the year column before filtering:\n",
      "['1995' '1996' '1997' '1998' '1999' '2000' '2001' '2002' '2003' '2004'\n",
      " '2005' '2006' '2007' '2008' '2009' '2010' '2011' '2012' '2013' '2014'\n",
      " '2015' '2016' '2017' '2018' '2019' '2020' '2021' '2022' '2023' 'Petrol'\n",
      " 'Diesel' 'Manual' '04/2006' 'LPG' 'Hybrid' '03/2015' '39.900 km'\n",
      " '18.990 km' '05/2021' 'Automatic' '11/2013' 'CNG'] \n",
      "\n"
     ]
    }
   ],
   "source": [
    "print('Values in the year column before filtering:')\n",
    "print(df['year'].unique(), '\\n')"
   ],
   "metadata": {
    "collapsed": false
   }
  },
  {
   "cell_type": "code",
   "execution_count": 62,
   "outputs": [
    {
     "name": "stdout",
     "output_type": "stream",
     "text": [
      "Values after filtering:\n",
      "['1995' '1996' '1997' '1998' '1999' '2000' '2001' '2002' '2003' '2004'\n",
      " '2005' '2006' '2007' '2008' '2009' '2010' '2011' '2012' '2013' '2014'\n",
      " '2015' '2016' '2017' '2018' '2019' '2020' '2021' '2022' '2023']\n"
     ]
    }
   ],
   "source": [
    "yearsToFilter = list(df['year'].unique()[:29])\n",
    "filt = []\n",
    "\n",
    "for i in range(df.shape[0]):\n",
    "    filt.append(df['year'].iloc[i] in yearsToFilter)\n",
    "\n",
    "df = df[filt]\n",
    "print('Values after filtering:')\n",
    "print(df['year'].unique())"
   ],
   "metadata": {
    "collapsed": false
   }
  },
  {
   "cell_type": "code",
   "execution_count": 63,
   "outputs": [],
   "source": [
    "# Extracting the Range from 'fuel_consumption_g_km' for Electric Cars\n",
    "def extract_range(row):\n",
    "    if 'Reichweite' in str(row['fuel_consumption_g_km']) and row['fuel_type'] == 'Electric':\n",
    "        return float(str(row['fuel_consumption_g_km']).split()[0])\n",
    "    return row['fuel_consumption_l_100km']\n",
    "\n",
    "df['fuel_consumption_l_100km'] = df.apply(extract_range, axis=1)"
   ],
   "metadata": {
    "collapsed": false
   }
  },
  {
   "cell_type": "code",
   "execution_count": 64,
   "outputs": [],
   "source": [
    "# Converting 'fuel_consumption_l_100km' to Numeric Format\n",
    "def convert_to_numeric(row):\n",
    "    if 'kWh/100 km' in str(row['fuel_consumption_l_100km']):\n",
    "        numeric_part = str(row['fuel_consumption_l_100km']).split()[0].replace(',', '.')\n",
    "        return float(numeric_part)\n",
    "    return row['fuel_consumption_l_100km']\n",
    "\n",
    "df['fuel_consumption_l_100km'] = df.apply(convert_to_numeric, axis=1)"
   ],
   "metadata": {
    "collapsed": false
   }
  },
  {
   "cell_type": "code",
   "execution_count": 65,
   "outputs": [],
   "source": [
    "# Marking Rows for Removal\n",
    "def mark_for_removal(row):\n",
    "    if row['fuel_type'] == 'Electric' and (type(row['fuel_consumption_l_100km']) != float or row['fuel_consumption_l_100km'] == 0):\n",
    "        return 'To Drop'\n",
    "    return row['fuel_consumption_l_100km']\n",
    "\n",
    "df['fuel_consumption_l_100km'] = df.apply(mark_for_removal, axis=1)\n",
    "\n",
    "# Removing Rows\n",
    "df = df[df['fuel_consumption_l_100km'] != 'To Drop']"
   ],
   "metadata": {
    "collapsed": false
   }
  },
  {
   "cell_type": "code",
   "execution_count": 66,
   "outputs": [
    {
     "data": {
      "text/plain": "      brand        model  color registration_date  year price_in_euro  \\\n16552  audi  Audi e-tron  beige           09/2019  2019         51888   \n16559  audi  Audi e-tron  beige           07/2019  2019         53990   \n16579  audi  Audi e-tron   blue           02/2019  2019         32930   \n16589  audi  Audi e-tron   blue           09/2019  2019         44940   \n16591  audi  Audi e-tron   blue           10/2019  2019         52446   \n\n      power_kw power_ps transmission_type fuel_type fuel_consumption_l_100km  \\\n16552      300      408         Automatic  Electric                    359.0   \n16559      300      408         Automatic  Electric                    359.0   \n16579      300      408         Automatic  Electric                    359.0   \n16589      300      408         Automatic  Electric                    359.0   \n16591      300      408         Automatic  Electric                    359.0   \n\n      fuel_consumption_g_km  mileage_in_km  \\\n16552     359 km Reichweite        84800.0   \n16559     359 km Reichweite        51000.0   \n16579     359 km Reichweite        84300.0   \n16589     359 km Reichweite        55900.0   \n16591     359 km Reichweite        17950.0   \n\n                                       offer_description  \n16552               55 Advanced Quattro S-Line Interieur  \n16559            55 quattro advanced Pano B&O AHK Matrix  \n16579           55 qu. S line AHK LED V-Cockp. RüKa Pano  \n16589  55 advanced S line Matrix HuD Pano B&O 360° Lu...  \n16591              advanced 55 Navi,LED,B&O,Leder,Kamera  ",
      "text/html": "<div>\n<style scoped>\n    .dataframe tbody tr th:only-of-type {\n        vertical-align: middle;\n    }\n\n    .dataframe tbody tr th {\n        vertical-align: top;\n    }\n\n    .dataframe thead th {\n        text-align: right;\n    }\n</style>\n<table border=\"1\" class=\"dataframe\">\n  <thead>\n    <tr style=\"text-align: right;\">\n      <th></th>\n      <th>brand</th>\n      <th>model</th>\n      <th>color</th>\n      <th>registration_date</th>\n      <th>year</th>\n      <th>price_in_euro</th>\n      <th>power_kw</th>\n      <th>power_ps</th>\n      <th>transmission_type</th>\n      <th>fuel_type</th>\n      <th>fuel_consumption_l_100km</th>\n      <th>fuel_consumption_g_km</th>\n      <th>mileage_in_km</th>\n      <th>offer_description</th>\n    </tr>\n  </thead>\n  <tbody>\n    <tr>\n      <th>16552</th>\n      <td>audi</td>\n      <td>Audi e-tron</td>\n      <td>beige</td>\n      <td>09/2019</td>\n      <td>2019</td>\n      <td>51888</td>\n      <td>300</td>\n      <td>408</td>\n      <td>Automatic</td>\n      <td>Electric</td>\n      <td>359.0</td>\n      <td>359 km Reichweite</td>\n      <td>84800.0</td>\n      <td>55 Advanced Quattro S-Line Interieur</td>\n    </tr>\n    <tr>\n      <th>16559</th>\n      <td>audi</td>\n      <td>Audi e-tron</td>\n      <td>beige</td>\n      <td>07/2019</td>\n      <td>2019</td>\n      <td>53990</td>\n      <td>300</td>\n      <td>408</td>\n      <td>Automatic</td>\n      <td>Electric</td>\n      <td>359.0</td>\n      <td>359 km Reichweite</td>\n      <td>51000.0</td>\n      <td>55 quattro advanced Pano B&amp;O AHK Matrix</td>\n    </tr>\n    <tr>\n      <th>16579</th>\n      <td>audi</td>\n      <td>Audi e-tron</td>\n      <td>blue</td>\n      <td>02/2019</td>\n      <td>2019</td>\n      <td>32930</td>\n      <td>300</td>\n      <td>408</td>\n      <td>Automatic</td>\n      <td>Electric</td>\n      <td>359.0</td>\n      <td>359 km Reichweite</td>\n      <td>84300.0</td>\n      <td>55 qu. S line AHK LED V-Cockp. RüKa Pano</td>\n    </tr>\n    <tr>\n      <th>16589</th>\n      <td>audi</td>\n      <td>Audi e-tron</td>\n      <td>blue</td>\n      <td>09/2019</td>\n      <td>2019</td>\n      <td>44940</td>\n      <td>300</td>\n      <td>408</td>\n      <td>Automatic</td>\n      <td>Electric</td>\n      <td>359.0</td>\n      <td>359 km Reichweite</td>\n      <td>55900.0</td>\n      <td>55 advanced S line Matrix HuD Pano B&amp;O 360° Lu...</td>\n    </tr>\n    <tr>\n      <th>16591</th>\n      <td>audi</td>\n      <td>Audi e-tron</td>\n      <td>blue</td>\n      <td>10/2019</td>\n      <td>2019</td>\n      <td>52446</td>\n      <td>300</td>\n      <td>408</td>\n      <td>Automatic</td>\n      <td>Electric</td>\n      <td>359.0</td>\n      <td>359 km Reichweite</td>\n      <td>17950.0</td>\n      <td>advanced 55 Navi,LED,B&amp;O,Leder,Kamera</td>\n    </tr>\n  </tbody>\n</table>\n</div>"
     },
     "execution_count": 66,
     "metadata": {},
     "output_type": "execute_result"
    }
   ],
   "source": [
    "df[df['fuel_type'] == 'Electric'].head()"
   ],
   "metadata": {
    "collapsed": false
   }
  },
  {
   "cell_type": "code",
   "execution_count": 67,
   "outputs": [
    {
     "data": {
      "text/plain": "        brand              model  color registration_date  year price_in_euro  \\\n0  alfa-romeo     Alfa Romeo GTV    red           10/1995  1995          1300   \n3  alfa-romeo  Alfa Romeo Spider  black           07/1995  1995          4900   \n4  alfa-romeo     Alfa Romeo 164    red           11/1996  1996         17950   \n5  alfa-romeo  Alfa Romeo Spider    red           04/1996  1996          7900   \n6  alfa-romeo     Alfa Romeo 145    red           12/1996  1996          3500   \n\n  power_kw power_ps transmission_type fuel_type  fuel_consumption_l_100km  \\\n0      148      201            Manual    Petrol                     109.0   \n3      110      150            Manual    Petrol                      95.0   \n4      132      179            Manual    Petrol                      72.0   \n5      110      150            Manual    Petrol                      95.0   \n6      110      150            Manual    Petrol                      88.0   \n\n  fuel_consumption_g_km  mileage_in_km                      offer_description  \n0              260 g/km       160500.0                              2.0 V6 TB  \n3              225 g/km       189500.0                   2.0 16V Twin Spark L  \n4              - (g/km)        96127.0  3.0i Super V6, absoluter Topzustand !  \n5              225 g/km        47307.0                     2.0 16V Twin Spark  \n6              210 g/km       230000.0                           Quadrifoglio  ",
      "text/html": "<div>\n<style scoped>\n    .dataframe tbody tr th:only-of-type {\n        vertical-align: middle;\n    }\n\n    .dataframe tbody tr th {\n        vertical-align: top;\n    }\n\n    .dataframe thead th {\n        text-align: right;\n    }\n</style>\n<table border=\"1\" class=\"dataframe\">\n  <thead>\n    <tr style=\"text-align: right;\">\n      <th></th>\n      <th>brand</th>\n      <th>model</th>\n      <th>color</th>\n      <th>registration_date</th>\n      <th>year</th>\n      <th>price_in_euro</th>\n      <th>power_kw</th>\n      <th>power_ps</th>\n      <th>transmission_type</th>\n      <th>fuel_type</th>\n      <th>fuel_consumption_l_100km</th>\n      <th>fuel_consumption_g_km</th>\n      <th>mileage_in_km</th>\n      <th>offer_description</th>\n    </tr>\n  </thead>\n  <tbody>\n    <tr>\n      <th>0</th>\n      <td>alfa-romeo</td>\n      <td>Alfa Romeo GTV</td>\n      <td>red</td>\n      <td>10/1995</td>\n      <td>1995</td>\n      <td>1300</td>\n      <td>148</td>\n      <td>201</td>\n      <td>Manual</td>\n      <td>Petrol</td>\n      <td>109.0</td>\n      <td>260 g/km</td>\n      <td>160500.0</td>\n      <td>2.0 V6 TB</td>\n    </tr>\n    <tr>\n      <th>3</th>\n      <td>alfa-romeo</td>\n      <td>Alfa Romeo Spider</td>\n      <td>black</td>\n      <td>07/1995</td>\n      <td>1995</td>\n      <td>4900</td>\n      <td>110</td>\n      <td>150</td>\n      <td>Manual</td>\n      <td>Petrol</td>\n      <td>95.0</td>\n      <td>225 g/km</td>\n      <td>189500.0</td>\n      <td>2.0 16V Twin Spark L</td>\n    </tr>\n    <tr>\n      <th>4</th>\n      <td>alfa-romeo</td>\n      <td>Alfa Romeo 164</td>\n      <td>red</td>\n      <td>11/1996</td>\n      <td>1996</td>\n      <td>17950</td>\n      <td>132</td>\n      <td>179</td>\n      <td>Manual</td>\n      <td>Petrol</td>\n      <td>72.0</td>\n      <td>- (g/km)</td>\n      <td>96127.0</td>\n      <td>3.0i Super V6, absoluter Topzustand !</td>\n    </tr>\n    <tr>\n      <th>5</th>\n      <td>alfa-romeo</td>\n      <td>Alfa Romeo Spider</td>\n      <td>red</td>\n      <td>04/1996</td>\n      <td>1996</td>\n      <td>7900</td>\n      <td>110</td>\n      <td>150</td>\n      <td>Manual</td>\n      <td>Petrol</td>\n      <td>95.0</td>\n      <td>225 g/km</td>\n      <td>47307.0</td>\n      <td>2.0 16V Twin Spark</td>\n    </tr>\n    <tr>\n      <th>6</th>\n      <td>alfa-romeo</td>\n      <td>Alfa Romeo 145</td>\n      <td>red</td>\n      <td>12/1996</td>\n      <td>1996</td>\n      <td>3500</td>\n      <td>110</td>\n      <td>150</td>\n      <td>Manual</td>\n      <td>Petrol</td>\n      <td>88.0</td>\n      <td>210 g/km</td>\n      <td>230000.0</td>\n      <td>Quadrifoglio</td>\n    </tr>\n  </tbody>\n</table>\n</div>"
     },
     "execution_count": 67,
     "metadata": {},
     "output_type": "execute_result"
    }
   ],
   "source": [
    "# Remove unwanted characters and convert to float\n",
    "df['fuel_consumption_l_100km'] = df['fuel_consumption_l_100km'].str.replace(',', '', regex=True)\n",
    "df['fuel_consumption_l_100km'] = df['fuel_consumption_l_100km'].str.extract(r'([\\d.]+)').astype(float)\n",
    "\n",
    "# Filter rows where the column is of type float\n",
    "df = df[df['fuel_consumption_l_100km'].notnull()]\n",
    "df.head()"
   ],
   "metadata": {
    "collapsed": false
   }
  },
  {
   "cell_type": "code",
   "execution_count": 71,
   "outputs": [],
   "source": [
    "# Convert columns to appropriate data types\n",
    "df['price_in_euro'] = df['price_in_euro'].astype(int)\n",
    "df['power_kw'] = df['power_kw'].astype(int)\n",
    "df['fuel_consumption_l_100km'] = df['fuel_consumption_l_100km'].astype(float)\n"
   ],
   "metadata": {
    "collapsed": false
   }
  },
  {
   "cell_type": "code",
   "execution_count": 72,
   "outputs": [
    {
     "name": "stdout",
     "output_type": "stream",
     "text": [
      "brand column has 0 missing values. Data type is object\n",
      "model column has 0 missing values. Data type is object\n",
      "color column has 0 missing values. Data type is object\n",
      "registration_date column has 0 missing values. Data type is object\n",
      "year column has 0 missing values. Data type is object\n",
      "price_in_euro column has 0 missing values. Data type is int64\n",
      "power_kw column has 0 missing values. Data type is int64\n",
      "power_ps column has 0 missing values. Data type is object\n",
      "transmission_type column has 0 missing values. Data type is object\n",
      "fuel_type column has 0 missing values. Data type is object\n",
      "fuel_consumption_l_100km column has 0 missing values. Data type is float64\n",
      "fuel_consumption_g_km column has 0 missing values. Data type is object\n",
      "mileage_in_km column has 0 missing values. Data type is float64\n",
      "offer_description column has 0 missing values. Data type is object\n",
      "\n"
     ]
    }
   ],
   "source": [
    "# Check for missing values and data types\n",
    "for column in df.columns:\n",
    "    missing_count = df[column].isna().sum()\n",
    "    data_type = df[column].dtype\n",
    "    print('{} column has {} missing values. Data type is {}'.format(column, missing_count, data_type))\n",
    "print('')"
   ],
   "metadata": {
    "collapsed": false
   }
  },
  {
   "cell_type": "code",
   "execution_count": 69,
   "outputs": [
    {
     "name": "stderr",
     "output_type": "stream",
     "text": [
      "/var/folders/tz/36qz0vtn4rb0h9dh9ghf_dpr0000gp/T/ipykernel_1362/3717091013.py:6: FutureWarning: Setting an item of incompatible dtype is deprecated and will raise in a future error of pandas. Value '90.81%' has dtype incompatible with int64, please explicitly cast to a compatible dtype first.\n",
      "  percents[brand] = str(round((newCounts[brand]/oriCounts[brand])*100, 2)) + '%'\n"
     ]
    },
    {
     "data": {
      "text/plain": "              Percent Remaining  Original Count  New Count\nbrand                                                     \nvolkswagen               90.81%           33281      30222\nmercedes-benz             90.0%           27226      24504\naudi                     91.98%           21161      19463\nopel                     89.85%           20388      18319\nbmw                      89.71%           19810      17772\nford                     89.11%           18790      16744\nskoda                    90.55%           14039      12712\nseat                     91.71%           11949      10958\ntoyota                   89.71%            8694       7381\nrenault                  82.14%            8228       7141",
      "text/html": "<div>\n<style scoped>\n    .dataframe tbody tr th:only-of-type {\n        vertical-align: middle;\n    }\n\n    .dataframe tbody tr th {\n        vertical-align: top;\n    }\n\n    .dataframe thead th {\n        text-align: right;\n    }\n</style>\n<table border=\"1\" class=\"dataframe\">\n  <thead>\n    <tr style=\"text-align: right;\">\n      <th></th>\n      <th>Percent Remaining</th>\n      <th>Original Count</th>\n      <th>New Count</th>\n    </tr>\n    <tr>\n      <th>brand</th>\n      <th></th>\n      <th></th>\n      <th></th>\n    </tr>\n  </thead>\n  <tbody>\n    <tr>\n      <th>volkswagen</th>\n      <td>90.81%</td>\n      <td>33281</td>\n      <td>30222</td>\n    </tr>\n    <tr>\n      <th>mercedes-benz</th>\n      <td>90.0%</td>\n      <td>27226</td>\n      <td>24504</td>\n    </tr>\n    <tr>\n      <th>audi</th>\n      <td>91.98%</td>\n      <td>21161</td>\n      <td>19463</td>\n    </tr>\n    <tr>\n      <th>opel</th>\n      <td>89.85%</td>\n      <td>20388</td>\n      <td>18319</td>\n    </tr>\n    <tr>\n      <th>bmw</th>\n      <td>89.71%</td>\n      <td>19810</td>\n      <td>17772</td>\n    </tr>\n    <tr>\n      <th>ford</th>\n      <td>89.11%</td>\n      <td>18790</td>\n      <td>16744</td>\n    </tr>\n    <tr>\n      <th>skoda</th>\n      <td>90.55%</td>\n      <td>14039</td>\n      <td>12712</td>\n    </tr>\n    <tr>\n      <th>seat</th>\n      <td>91.71%</td>\n      <td>11949</td>\n      <td>10958</td>\n    </tr>\n    <tr>\n      <th>toyota</th>\n      <td>89.71%</td>\n      <td>8694</td>\n      <td>7381</td>\n    </tr>\n    <tr>\n      <th>renault</th>\n      <td>82.14%</td>\n      <td>8228</td>\n      <td>7141</td>\n    </tr>\n  </tbody>\n</table>\n</div>"
     },
     "execution_count": 69,
     "metadata": {},
     "output_type": "execute_result"
    }
   ],
   "source": [
    "# Calculate the percentage of each brand's count compared to the original data\n",
    "newCounts = df['brand'].value_counts()\n",
    "oriCounts = original_df['brand'].value_counts()\n",
    "percents = pd.Series(newCounts)\n",
    "for brand in df['brand'].value_counts().index:\n",
    "    percents[brand] = str(round((newCounts[brand]/oriCounts[brand])*100, 2)) + '%'\n",
    "\n",
    "counts_df = pd.DataFrame(percents)\n",
    "counts_df.columns = ['Percent Remaining']\n",
    "counts_df['Original Count'] = oriCounts.values\n",
    "counts_df['New Count'] = newCounts.values\n",
    "counts_df = counts_df.sort_values(by = 'Original Count', ascending = False)\n",
    "counts_df[:10]"
   ],
   "metadata": {
    "collapsed": false
   }
  },
  {
   "cell_type": "markdown",
   "source": [
    "After cleaning the data, a good percentage of our data points seem to have been lost, about 15% of the most common brands, which means we didn't lose a significant amount of data, which is good compared to our data size"
   ],
   "metadata": {
    "collapsed": false
   }
  },
  {
   "cell_type": "code",
   "execution_count": 70,
   "outputs": [],
   "source": [
    "df.to_csv('Cleaned_data.csv')"
   ],
   "metadata": {
    "collapsed": false
   }
  }
 ],
 "metadata": {
  "kernelspec": {
   "display_name": "Python 3",
   "language": "python",
   "name": "python3"
  },
  "language_info": {
   "codemirror_mode": {
    "name": "ipython",
    "version": 2
   },
   "file_extension": ".py",
   "mimetype": "text/x-python",
   "name": "python",
   "nbconvert_exporter": "python",
   "pygments_lexer": "ipython2",
   "version": "2.7.6"
  }
 },
 "nbformat": 4,
 "nbformat_minor": 0
}
